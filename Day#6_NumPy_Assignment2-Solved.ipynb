{
 "cells": [
  {
   "cell_type": "markdown",
   "id": "5ffb93ae",
   "metadata": {},
   "source": [
    "# Q1: Import numpy library"
   ]
  },
  {
   "cell_type": "code",
   "execution_count": 19,
   "id": "936d4703",
   "metadata": {},
   "outputs": [],
   "source": [
    "import numpy as np"
   ]
  },
  {
   "cell_type": "markdown",
   "id": "b6991a89",
   "metadata": {},
   "source": [
    "# Q2: Generate a sequence of 15 floats using linspace() function"
   ]
  },
  {
   "cell_type": "code",
   "execution_count": 20,
   "id": "43bf04a5",
   "metadata": {},
   "outputs": [
    {
     "data": {
      "text/plain": [
       "array([0.        , 0.07142857, 0.14285714, 0.21428571, 0.28571429,\n",
       "       0.35714286, 0.42857143, 0.5       , 0.57142857, 0.64285714,\n",
       "       0.71428571, 0.78571429, 0.85714286, 0.92857143, 1.        ])"
      ]
     },
     "execution_count": 20,
     "metadata": {},
     "output_type": "execute_result"
    }
   ],
   "source": [
    "np.linspace(start = 0.0, stop = 1, num = 15)"
   ]
  },
  {
   "cell_type": "markdown",
   "id": "7144bba8",
   "metadata": {},
   "source": [
    "# Q3: Create a 3-D array in shape (2, 2, 3) containing the four arrays given below \n",
    "Note : the array's name is up to you.\n",
    "\n",
    "|      |       |          |         |\n",
    "|------| ----- | -------- | ------- |\n",
    "|arr1 | 1.1    | 2.1       | 3.1        |\n",
    "|arr2 | 4.1    | 5.1       | 6.1        |\n",
    "|arr3 | 7.1    | 8.1       | 9.1        |\n",
    "|arr4 | 10.1   | 11.1      | 12.1       |"
   ]
  },
  {
   "cell_type": "code",
   "execution_count": 26,
   "id": "c1c3f9dc",
   "metadata": {},
   "outputs": [
    {
     "name": "stdout",
     "output_type": "stream",
     "text": [
      "[[ 1.1  2.1  3.1]\n",
      " [ 4.1  5.1  6.1]\n",
      " [ 7.1  8.1  9.1]\n",
      " [10.1 11.1 12.1]]\n",
      "[[[ 1.1  2.1  3.1]\n",
      "  [ 4.1  5.1  6.1]]\n",
      "\n",
      " [[ 7.1  8.1  9.1]\n",
      "  [10.1 11.1 12.1]]]\n"
     ]
    }
   ],
   "source": [
    "Three_D = np.array([[1.1,2.1,3.1],[4.1,5.1,6.1],[7.1,8.1,9.1],[10.1,11.1,12.1]])\n",
    "print(Three_D)\n",
    "Three_DD = Three_D.reshape(2,2,3)\n",
    "Three_D.shape\n",
    "Three_DD.shape\n",
    "print(Three_DD)"
   ]
  },
  {
   "cell_type": "markdown",
   "id": "807acbf6",
   "metadata": {},
   "source": [
    "# Q4: Print the following:\n",
    "Note: use the same array from Q3.\n",
    "- Array's type.\n",
    "- Array's elements datatype.\n",
    "- Array's shape.\n",
    "- Array's size.\n",
    "- Array's dimention."
   ]
  },
  {
   "cell_type": "code",
   "execution_count": 22,
   "id": "6e90d6a0",
   "metadata": {},
   "outputs": [
    {
     "data": {
      "text/plain": [
       "3"
      ]
     },
     "execution_count": 22,
     "metadata": {},
     "output_type": "execute_result"
    }
   ],
   "source": [
    "Three_DD.dtype\n",
    "Three_DD.shape\n",
    "Three_DD.size\n",
    "Three_DD.ndim"
   ]
  },
  {
   "cell_type": "code",
   "execution_count": 23,
   "id": "1299544c",
   "metadata": {},
   "outputs": [
    {
     "name": "stdout",
     "output_type": "stream",
     "text": [
      "<memory at 0x0000016A7D1F9A90>\n"
     ]
    }
   ],
   "source": [
    "print(Three_DD.data)"
   ]
  },
  {
   "cell_type": "markdown",
   "id": "db4958b5",
   "metadata": {},
   "source": [
    "# Q5:  Change the array dimention from 3-D to 4-D\n",
    "Note: use the same array from Q3.\n",
    "- Create a new array to hold the changes. \n",
    "- Print the new array's dimention and shape."
   ]
  },
  {
   "cell_type": "code",
   "execution_count": 47,
   "id": "e9f5c88c",
   "metadata": {},
   "outputs": [
    {
     "name": "stdout",
     "output_type": "stream",
     "text": [
      "[[[[-0.89016644  0.33972603]\n",
      "   [-0.2954494   0.21979414]\n",
      "   [-2.1920798   0.29882369]]\n",
      "\n",
      "  [[-1.0369276  -0.29562669]\n",
      "   [-0.42704447 -0.08594202]\n",
      "   [-0.86525613 -1.71161478]]\n",
      "\n",
      "  [[ 0.31828061 -0.32557681]\n",
      "   [ 0.11443428  2.44071687]\n",
      "   [ 2.10969251 -0.64861667]]]\n",
      "\n",
      "\n",
      " [[[-0.24560222 -1.43749259]\n",
      "   [ 0.51687361 -1.49798289]\n",
      "   [-0.62566476  0.77511548]]\n",
      "\n",
      "  [[ 1.27573122  0.90627733]\n",
      "   [-0.56243218 -1.10282994]\n",
      "   [ 0.05315345 -1.32236359]]\n",
      "\n",
      "  [[ 0.31293013  1.44363316]\n",
      "   [-0.67078154 -0.1937849 ]\n",
      "   [ 1.05212144  0.46888678]]]\n",
      "\n",
      "\n",
      " [[[ 0.99717355 -0.99796031]\n",
      "   [ 0.2404431  -0.10028465]\n",
      "   [ 0.06270752 -0.92079155]]\n",
      "\n",
      "  [[ 1.84655501  0.48951764]\n",
      "   [-0.98302611  0.22896668]\n",
      "   [ 0.53551554 -2.45202564]]\n",
      "\n",
      "  [[-0.63409814 -1.86799508]\n",
      "   [-0.74611735 -1.40537558]\n",
      "   [-0.03668328  0.64182958]]]\n",
      "\n",
      "\n",
      " [[[-0.2243092  -0.0143621 ]\n",
      "   [-0.4425247  -0.27664447]\n",
      "   [-0.92820614 -0.41252172]]\n",
      "\n",
      "  [[-1.64177552  0.27936152]\n",
      "   [-0.2043775   0.08454316]\n",
      "   [ 0.16181626 -1.81156877]]\n",
      "\n",
      "  [[ 1.27320252  0.57055899]\n",
      "   [ 1.65076791  0.72187052]\n",
      "   [ 1.39317877  0.03702721]]]]\n"
     ]
    }
   ],
   "source": [
    "x = np.random.randn(4, 3, 3, 2)\n",
    "print(x)\n"
   ]
  },
  {
   "cell_type": "markdown",
   "id": "454f2504",
   "metadata": {},
   "source": [
    "# Q6: Change the array's elements datatype to integer  \n",
    "Note: use the same array from Q5.\n",
    "\n",
    "- Create a new array to hold the changes. \n",
    "- Print the new array."
   ]
  },
  {
   "cell_type": "code",
   "execution_count": 48,
   "id": "8135b045",
   "metadata": {},
   "outputs": [
    {
     "name": "stdout",
     "output_type": "stream",
     "text": [
      "[[[[ 0  0]\n",
      "   [ 0  0]\n",
      "   [-2  0]]\n",
      "\n",
      "  [[-1  0]\n",
      "   [ 0  0]\n",
      "   [ 0 -1]]\n",
      "\n",
      "  [[ 0  0]\n",
      "   [ 0  2]\n",
      "   [ 2  0]]]\n",
      "\n",
      "\n",
      " [[[ 0 -1]\n",
      "   [ 0 -1]\n",
      "   [ 0  0]]\n",
      "\n",
      "  [[ 1  0]\n",
      "   [ 0 -1]\n",
      "   [ 0 -1]]\n",
      "\n",
      "  [[ 0  1]\n",
      "   [ 0  0]\n",
      "   [ 1  0]]]\n",
      "\n",
      "\n",
      " [[[ 0  0]\n",
      "   [ 0  0]\n",
      "   [ 0  0]]\n",
      "\n",
      "  [[ 1  0]\n",
      "   [ 0  0]\n",
      "   [ 0 -2]]\n",
      "\n",
      "  [[ 0 -1]\n",
      "   [ 0 -1]\n",
      "   [ 0  0]]]\n",
      "\n",
      "\n",
      " [[[ 0  0]\n",
      "   [ 0  0]\n",
      "   [ 0  0]]\n",
      "\n",
      "  [[-1  0]\n",
      "   [ 0  0]\n",
      "   [ 0 -1]]\n",
      "\n",
      "  [[ 1  0]\n",
      "   [ 1  0]\n",
      "   [ 1  0]]]]\n"
     ]
    }
   ],
   "source": [
    "y = rounded_down_integer_array = x.astype(int)\n",
    "print(y)"
   ]
  },
  {
   "cell_type": "markdown",
   "id": "ab90badc",
   "metadata": {},
   "source": [
    "# Q7: Print all array's elements using for loop\n",
    "Note: use the same array from Q6.\n",
    "\n",
    "Hint: use nditer()"
   ]
  },
  {
   "cell_type": "code",
   "execution_count": 49,
   "id": "a0d58d15",
   "metadata": {},
   "outputs": [
    {
     "name": "stdout",
     "output_type": "stream",
     "text": [
      "0 0 0 0 -2 0 -1 0 0 0 0 -1 0 0 0 2 2 0 0 -1 0 -1 0 0 1 0 0 -1 0 -1 0 1 0 0 1 0 0 0 0 0 0 0 1 0 0 0 0 -2 0 -1 0 -1 0 0 0 0 0 0 0 0 -1 0 0 0 0 -1 1 0 1 0 1 0 "
     ]
    }
   ],
   "source": [
    "for cell in np.nditer(y):\n",
    "    print(cell, end=' ')"
   ]
  },
  {
   "cell_type": "markdown",
   "id": "afa8b5f3",
   "metadata": {},
   "source": [
    "# Q8:  Print number 8 using array slicing\n",
    "Note: use the same array from Q6."
   ]
  },
  {
   "cell_type": "code",
   "execution_count": 55,
   "id": "6e12e2d7",
   "metadata": {},
   "outputs": [
    {
     "name": "stdout",
     "output_type": "stream",
     "text": [
      "0\n"
     ]
    }
   ],
   "source": [
    "print(y[2,2,2,1])"
   ]
  },
  {
   "cell_type": "markdown",
   "id": "e2e71895",
   "metadata": {},
   "source": [
    "# Q9: Print number 5 and number 6 using array slicing\n",
    "Note: use the same array from Q6."
   ]
  },
  {
   "cell_type": "code",
   "execution_count": null,
   "id": "c3218bcb",
   "metadata": {},
   "outputs": [],
   "source": [
    "# write your code here ^_^"
   ]
  },
  {
   "cell_type": "markdown",
   "id": "e5d63cd3",
   "metadata": {},
   "source": [
    "# Q10: Search for number 8 using where()\n",
    "Note: use the same array from Q6.\n",
    "\n",
    "Note: where() is only used with small data.\n",
    "\n",
    "*the output represents the path of the index that leads to number 8*"
   ]
  },
  {
   "cell_type": "code",
   "execution_count": 65,
   "id": "ddaf0146",
   "metadata": {},
   "outputs": [
    {
     "name": "stdout",
     "output_type": "stream",
     "text": [
      "(array([0, 0], dtype=int64), array([2, 2], dtype=int64), array([1, 2], dtype=int64), array([1, 0], dtype=int64))\n"
     ]
    }
   ],
   "source": [
    "\n",
    "b = np.where(y == 2 )\n",
    "print(b)"
   ]
  },
  {
   "cell_type": "markdown",
   "id": "c89f41ad",
   "metadata": {},
   "source": [
    "# Q11: Reshape the array as the following\n",
    "\n",
    "    array([[[ 1, 2],\n",
    "            [ 3,  4],\n",
    "            [ 5,  6]],\n",
    "\n",
    "           [[ 7,  8],\n",
    "            [ 9, 10],\n",
    "            [11, 12]]])\n",
    "            \n",
    " Note: use the same array from Q6."
   ]
  },
  {
   "cell_type": "code",
   "execution_count": 69,
   "id": "d9b632bd",
   "metadata": {},
   "outputs": [
    {
     "name": "stdout",
     "output_type": "stream",
     "text": [
      "[[[ 0  0  0  0]\n",
      "  [-2  0 -1  0]\n",
      "  [ 0  0  0 -1]]\n",
      "\n",
      " [[ 0  0  0  2]\n",
      "  [ 2  0  0 -1]\n",
      "  [ 0 -1  0  0]]\n",
      "\n",
      " [[ 1  0  0 -1]\n",
      "  [ 0 -1  0  1]\n",
      "  [ 0  0  1  0]]\n",
      "\n",
      " [[ 0  0  0  0]\n",
      "  [ 0  0  1  0]\n",
      "  [ 0  0  0 -2]]\n",
      "\n",
      " [[ 0 -1  0 -1]\n",
      "  [ 0  0  0  0]\n",
      "  [ 0  0  0  0]]\n",
      "\n",
      " [[-1  0  0  0]\n",
      "  [ 0 -1  1  0]\n",
      "  [ 1  0  1  0]]]\n"
     ]
    }
   ],
   "source": [
    "reshape = y.reshape(6,3,4)\n",
    "print(reshape)"
   ]
  },
  {
   "cell_type": "markdown",
   "id": "539c16b1",
   "metadata": {},
   "source": [
    "# Q12: Join the given arrays below \n",
    "    arr1 = np.array([['A', 'B'], ['E', 'F']])\n",
    "    arr2 = np.array([['C', 'D'], ['G', 'H']])\n",
    "## Q12.1: Join the arrays without specifying the axis "
   ]
  },
  {
   "cell_type": "code",
   "execution_count": 70,
   "id": "d6acdeaf",
   "metadata": {},
   "outputs": [
    {
     "name": "stdout",
     "output_type": "stream",
     "text": [
      "[['A' 'B']\n",
      " ['E' 'F']\n",
      " ['C' 'D']\n",
      " ['G' 'H']]\n"
     ]
    }
   ],
   "source": [
    "arr1 = np.array([['A', 'B'], ['E', 'F']])\n",
    "arr2 = np.array([['C', 'D'], ['G', 'H']])\n",
    "arra3 = np.concatenate((arr1, arr2), axis=0)\n",
    "print(arra3)"
   ]
  },
  {
   "cell_type": "markdown",
   "id": "1a37dd47",
   "metadata": {},
   "source": [
    "# Q12.2: Join the arrays along rows with axis = 1 "
   ]
  },
  {
   "cell_type": "code",
   "execution_count": 71,
   "id": "b849658c",
   "metadata": {},
   "outputs": [
    {
     "name": "stdout",
     "output_type": "stream",
     "text": [
      "[['A' 'B' 'C' 'D']\n",
      " ['E' 'F' 'G' 'H']]\n"
     ]
    }
   ],
   "source": [
    "arra4 = np.concatenate((arr1, arr2), axis=1)\n",
    "print(arra4)"
   ]
  },
  {
   "cell_type": "markdown",
   "id": "7296eecf",
   "metadata": {},
   "source": [
    "# Q13: Split the array into two arrays with axis = 1, each array should contain four arrays. \n",
    "Note: use the same array from Q12.1"
   ]
  },
  {
   "cell_type": "code",
   "execution_count": 74,
   "id": "7f7f5e49",
   "metadata": {},
   "outputs": [
    {
     "name": "stdout",
     "output_type": "stream",
     "text": [
      "[array([['A', 'B'],\n",
      "       ['E', 'F']], dtype='<U1'), array([['C', 'D'],\n",
      "       ['G', 'H']], dtype='<U1')]\n"
     ]
    }
   ],
   "source": [
    "print(np.split(arra4, 2, axis=1))\n"
   ]
  }
 ],
 "metadata": {
  "kernelspec": {
   "display_name": "Python 3 (ipykernel)",
   "language": "python",
   "name": "python3"
  },
  "language_info": {
   "codemirror_mode": {
    "name": "ipython",
    "version": 3
   },
   "file_extension": ".py",
   "mimetype": "text/x-python",
   "name": "python",
   "nbconvert_exporter": "python",
   "pygments_lexer": "ipython3",
   "version": "3.9.12"
  }
 },
 "nbformat": 4,
 "nbformat_minor": 5
}
